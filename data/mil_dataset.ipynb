{
 "cells": [
  {
   "cell_type": "code",
   "id": "initial_id",
   "metadata": {
    "collapsed": true,
    "ExecuteTime": {
     "end_time": "2024-11-26T14:05:18.389707Z",
     "start_time": "2024-11-26T14:05:16.861742Z"
    }
   },
   "source": [
    "import numpy as np\n",
    "import torch\n",
    "import os\n",
    "import matplotlib.pyplot as plt\n",
    "from h5py import Dataset\n",
    "from jupyter_server.utils import fetch"
   ],
   "outputs": [],
   "execution_count": 1
  },
  {
   "metadata": {
    "ExecuteTime": {
     "end_time": "2024-11-26T14:05:18.396287Z",
     "start_time": "2024-11-26T14:05:18.394132Z"
    }
   },
   "cell_type": "code",
   "source": "mount_point = \"/home/felipe/ExternalDrives\"",
   "id": "fd565e627fe96336",
   "outputs": [],
   "execution_count": 2
  },
  {
   "metadata": {
    "ExecuteTime": {
     "end_time": "2024-11-26T14:35:51.596977Z",
     "start_time": "2024-11-26T14:35:51.591307Z"
    }
   },
   "cell_type": "code",
   "source": [
    "from torch.utils.data import Dataset\n",
    "from typing import List, Tuple, Iterable\n",
    "\n",
    "class MILDataset(Dataset):\n",
    "    \"\"\"\n",
    "    Subclass MILDataset and implement the fetch_tiles method for your dataset.\n",
    "    \n",
    "    fetch_tiles\n",
    "      input: str -> unique identifier for each bag\n",
    "      output: tuple(tiles, label) -> a set of image data tensors (C,W,H) and their shared label\n",
    "      \n",
    "    When creating DataLoaders, use the MILDataset.collate method as your collate function.\n",
    "    This is necessary because bags have a variable number of tiles.    \n",
    "    \"\"\"\n",
    "    def __init__(\n",
    "            self,\n",
    "            bag_ids: List[str],\n",
    "        ):\n",
    "        super().__init__()\n",
    "    \n",
    "        self.bag_ids = {\n",
    "            i: bag for i, bag in enumerate(bag_ids)\n",
    "        }\n",
    "\n",
    "    \n",
    "    def __len__(self):\n",
    "        return len(self.bag_ids)\n",
    "    \n",
    "    def __getitem__(self, i):\n",
    "        bag = self.bag_ids[i]\n",
    "        tiles, label = self.fetch_tiles(bag)  \n",
    "        return torch.tensor(i), tiles, label\n",
    "          \n",
    "    @staticmethod\n",
    "    def fetch_tiles(bag: str, *args, **kwargs) -> Tuple[torch.Tensor, torch.Tensor]:\n",
    "        raise NotImplementedError\n",
    "    \n",
    "    @staticmethod\n",
    "    def collate(\n",
    "            batch: Iterable[Tuple[torch.Tensor, torch.Tensor, torch.Tensor]]\n",
    "    ) -> Tuple[torch.Tensor, torch.Tensor, torch.Tensor]:\n",
    "        \"\"\"\n",
    "        batch: tuple -> bag, tiles, label \n",
    "        shapes \n",
    "          bag -> 1\n",
    "          tiles -> N, C, W, H\n",
    "          label -> 1\n",
    "        \"\"\"\n",
    "        \n",
    "        batch_bags = []\n",
    "        batch_tiles = []\n",
    "        batch_labels = []\n",
    "        \n",
    "        for sample in batch:\n",
    "            batch_bags.append(sample[0])\n",
    "            batch_tiles.append(sample[1])\n",
    "            batch_labels.append(sample[2])\n",
    "        \n",
    "        collated_bags = torch.cat(batch_bags, dim=0)\n",
    "        collated_tiles = torch.cat(batch_tiles, dim=1)\n",
    "        collated_labels = torch.stack(batch_labels)\n",
    "        \n",
    "        return collated_bags, collated_tiles, collated_labels"
   ],
   "id": "4965b581a2b476d8",
   "outputs": [],
   "execution_count": 7
  }
 ],
 "metadata": {
  "kernelspec": {
   "display_name": "Python 3",
   "language": "python",
   "name": "python3"
  },
  "language_info": {
   "codemirror_mode": {
    "name": "ipython",
    "version": 2
   },
   "file_extension": ".py",
   "mimetype": "text/x-python",
   "name": "python",
   "nbconvert_exporter": "python",
   "pygments_lexer": "ipython2",
   "version": "2.7.6"
  }
 },
 "nbformat": 4,
 "nbformat_minor": 5
}
