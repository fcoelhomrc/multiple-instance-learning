{
 "cells": [
  {
   "cell_type": "code",
   "id": "initial_id",
   "metadata": {
    "collapsed": true,
    "ExecuteTime": {
     "end_time": "2024-11-26T15:13:41.244319Z",
     "start_time": "2024-11-26T15:13:41.241278Z"
    }
   },
   "source": [
    "import numpy\n",
    "import matplotlib.pyplot\n",
    "\n",
    "import yaml \n",
    "\n",
    "import wandb\n",
    "\n",
    "import torch\n",
    "import torch.nn as nn\n",
    "import torchvision\n",
    "import torch.nn.functional as F\n",
    "\n",
    "import torchmetrics\n",
    "\n",
    "import lightning as L\n",
    "from pytorch_lightning.loggers import WandbLogger"
   ],
   "outputs": [],
   "execution_count": 118
  },
  {
   "metadata": {
    "ExecuteTime": {
     "end_time": "2024-11-26T15:13:42.207532Z",
     "start_time": "2024-11-26T15:13:41.758402Z"
    }
   },
   "cell_type": "code",
   "source": [
    "# test\n",
    "backbone_weights = torchvision.models.ResNet34_Weights.DEFAULT\n",
    "preprocessor = backbone_weights.transforms()\n",
    "backbone = torchvision.models.resnet34(weights=backbone_weights)"
   ],
   "id": "ece694fe06b80972",
   "outputs": [],
   "execution_count": 119
  },
  {
   "metadata": {
    "ExecuteTime": {
     "end_time": "2024-11-26T15:59:27.187453Z",
     "start_time": "2024-11-26T15:59:27.167170Z"
    }
   },
   "cell_type": "code",
   "source": [
    "# set parameters and write to yaml file\n",
    "parameters = {\n",
    "    'Training': {\n",
    "        'limit_train_batches': 0.10,\n",
    "        'max_epochs': 10,\n",
    "        'batch_size': 32,\n",
    "        'early_stopping_patience': 2,\n",
    "        'log_every_n_steps': 25,\n",
    "    },\n",
    "    'Optimizer': {\n",
    "        'optimizer': 'adam',\n",
    "        'weight_decay': 0.9,\n",
    "        'lr': 6e-6,  \n",
    "    },\n",
    "    'Loss_Function': {\n",
    "        'loss_function': 'qwk',\n",
    "    },\n",
    "    'Model': {\n",
    "        'backbone': 'resnet34',\n",
    "        'features': 512,\n",
    "        'outputs': 3,\n",
    "   },\n",
    "}\n",
    "\n",
    "parameters"
   ],
   "id": "7411a91035f8fbf8",
   "outputs": [
    {
     "data": {
      "text/plain": [
       "{'Training': {'limit_train_batches': 1.0,\n",
       "  'max_epochs': 10,\n",
       "  'batch_size': 32,\n",
       "  'early_stopping_patience': 2,\n",
       "  'log_every_n_steps': 50},\n",
       " 'Optimizer': {'optimizer': 'adam', 'weight_decay': 0.9, 'lr': 6e-06},\n",
       " 'Loss_Function': {'loss_function': 'qwk'},\n",
       " 'Model': {'backbone': 'resnet34', 'features': 512, 'outputs': 3}}"
      ]
     },
     "execution_count": 153,
     "metadata": {},
     "output_type": "execute_result"
    }
   ],
   "execution_count": 153
  },
  {
   "metadata": {
    "ExecuteTime": {
     "end_time": "2024-11-26T15:59:28.579132Z",
     "start_time": "2024-11-26T15:59:28.571228Z"
    }
   },
   "cell_type": "code",
   "source": [
    "with open(\"parameters.yaml\", 'w') as yaml_file:\n",
    "    data = yaml.dump(parameters, yaml_file)"
   ],
   "id": "8e63338b73b23c7d",
   "outputs": [],
   "execution_count": 154
  },
  {
   "metadata": {
    "ExecuteTime": {
     "end_time": "2024-11-26T15:13:49.951440Z",
     "start_time": "2024-11-26T15:13:49.945685Z"
    }
   },
   "cell_type": "code",
   "source": [
    "with open(\"parameters.yaml\", \"r\") as yaml_file:\n",
    "    parameters = yaml.load(yaml_file, Loader=yaml.FullLoader)\n",
    "print(parameters)"
   ],
   "id": "5e3703dc867ad4cb",
   "outputs": [
    {
     "name": "stdout",
     "output_type": "stream",
     "text": [
      "{'Loss_Function': {'loss_function': 'qwk'}, 'Model': {'backbone': 'resnet34', 'features': 512, 'outputs': 3}, 'Optimizer': {'lr': 6e-06, 'optimizer': 'adam', 'weight_decay': 0.9}, 'Training': {'batch_size': 32, 'early_stopping_patience': 2, 'limit_train_batches': 1.0, 'max_epochs': 10}}\n"
     ]
    }
   ],
   "execution_count": 123
  },
  {
   "metadata": {
    "ExecuteTime": {
     "end_time": "2024-11-26T15:37:26.224593Z",
     "start_time": "2024-11-26T15:37:26.181754Z"
    }
   },
   "cell_type": "code",
   "source": [
    "# fully-supervised fine-tuning\n",
    "class Backbone(L.LightningModule):\n",
    "    \n",
    "    def __init__(self, n_classes, user_parameters):\n",
    "        super().__init__()\n",
    "        \n",
    "        self.n_classes = n_classes\n",
    "        self.user_parameters = user_parameters\n",
    "        \n",
    "        self.backbone_weights = torchvision.models.ResNet34_Weights.DEFAULT\n",
    "        self.preprocessor = self.backbone_weights.transforms()\n",
    "        self.backbone = torchvision.models.resnet34(weights=self.backbone_weights)\n",
    "        self.n_features = self.backbone.fc.in_features\n",
    "        self.backbone.fc = nn.Linear(self.n_features, self.n_classes)\n",
    "        \n",
    "        match self.user_parameters['Loss_Function']['loss_function']:\n",
    "            case 'cross_entropy':\n",
    "                self.loss_function = F.cross_entropy\n",
    "            case 'qwk':\n",
    "                from WeightedKappaLoss import WeightedKappaLoss\n",
    "                self.loss_function = WeightedKappaLoss(self.n_classes, mode='quadratic')\n",
    "            case _:\n",
    "                self.loss_function = F.cross_entropy  # defaults to cross entropy\n",
    "\n",
    "        self.save_hyperparameters()  # wandb\n",
    "        \n",
    "    def forward(self, x):\n",
    "        x_processed = self.preprocessor(x)\n",
    "        return self.backbone(x_processed)\n",
    "    \n",
    "    def configure_optimizers(self):\n",
    "        optimizer = torch.optim.Adam(\n",
    "            self.backbone.parameters(),\n",
    "            lr=self.user_parameters['Optimizer']['lr'],\n",
    "            weight_decay=self.user_parameters['Optimizer']['weight_decay'],\n",
    "        )\n",
    "        return optimizer\n",
    "    \n",
    "    def training_step(self, train_batch, batch_idx):\n",
    "        x, y = train_batch\n",
    "        logits = self.forward(x)\n",
    "        loss = F.cross_entropy(logits, y)\n",
    "        \n",
    "        probas = F.softmax(logits, dim=1)\n",
    "        y_hat = probas.argmax(dim=1)\n",
    "        \n",
    "        accuracy = torchmetrics.functional.accuracy(\n",
    "            y_hat, y, task='multiclass', num_classes=self.n_classes\n",
    "        )\n",
    "        \n",
    "        qwk = torchmetrics.functional.cohen_kappa(\n",
    "            y_hat, y, task='multiclass', num_classes=self.n_classes,\n",
    "            weights='quadratic'\n",
    "        )   \n",
    "        \n",
    "        recall = torchmetrics.functional.recall(\n",
    "            y_hat, y, task='multiclass', num_classes=self.n_classes,\n",
    "        )\n",
    "        \n",
    "        self.log(\"train/loss\", loss)  # wandb\n",
    "        self.log(\"train/accuracy\", accuracy)  # wandb\n",
    "        self.log(\"train/recall\", recall)  # wandb\n",
    "        self.log(\"train/qwk\", qwk)  # wandb\n",
    "        return loss\n",
    "    \n",
    "    def validation_step(self, val_batch, batch_idx):\n",
    "        x, y = val_batch\n",
    "        logits = self.forward(x)\n",
    "        loss = F.cross_entropy(logits, y)\n",
    "        \n",
    "        probas = F.softmax(logits, dim=1)\n",
    "        y_hat = probas.argmax(dim=1)\n",
    "        \n",
    "        accuracy = torchmetrics.functional.accuracy(\n",
    "            y_hat, y, task='multiclass', num_classes=self.n_classes\n",
    "        )\n",
    "        \n",
    "        qwk = torchmetrics.functional.cohen_kappa(\n",
    "            y_hat, y, task='multiclass', num_classes=self.n_classes,\n",
    "            weights='quadratic'\n",
    "        )\n",
    "        \n",
    "        recall = torchmetrics.functional.recall(\n",
    "            y_hat, y, task='multiclass', num_classes=self.n_classes,\n",
    "        )\n",
    "        \n",
    "        self.log(\"val/loss\", loss)  # wandb\n",
    "        self.log(\"val/accuracy\", accuracy)  # wandb\n",
    "        self.log(\"val/recall\", recall)  # wandb\n",
    "        self.log(\"val/qwk\", qwk)  # wandb\n",
    "\n",
    "    \n",
    "        "
   ],
   "id": "5bb9fe1b01bae0e1",
   "outputs": [],
   "execution_count": 144
  },
  {
   "metadata": {
    "ExecuteTime": {
     "end_time": "2024-11-26T15:37:27.477355Z",
     "start_time": "2024-11-26T15:37:27.473442Z"
    }
   },
   "cell_type": "code",
   "source": [
    "wandb_logger = WandbLogger(\n",
    "    project='debug-runs',\n",
    "    save_dir='wandb-outputs',\n",
    "    config=parameters,\n",
    ")"
   ],
   "id": "634b231e358d71a9",
   "outputs": [],
   "execution_count": 145
  },
  {
   "metadata": {
    "ExecuteTime": {
     "end_time": "2024-11-26T15:37:27.838523Z",
     "start_time": "2024-11-26T15:37:27.832582Z"
    }
   },
   "cell_type": "code",
   "source": [
    "fake_train_data = torchvision.datasets.FakeData(\n",
    "    size=1000,\n",
    "    image_size=(3, 512, 512),\n",
    "    num_classes=3,\n",
    "    transform=torchvision.transforms.ToTensor(),\n",
    ")\n",
    "\n",
    "fake_val_data = torchvision.datasets.FakeData(\n",
    "    size=1000,\n",
    "    image_size=(3, 512, 512),\n",
    "    num_classes=3,\n",
    "    transform=torchvision.transforms.ToTensor()\n",
    ")\n",
    "\n",
    "fake_train_data"
   ],
   "id": "945419bcf58bb6ef",
   "outputs": [
    {
     "data": {
      "text/plain": [
       "Dataset FakeData\n",
       "    Number of datapoints: 1000\n",
       "    StandardTransform\n",
       "Transform: ToTensor()"
      ]
     },
     "execution_count": 146,
     "metadata": {},
     "output_type": "execute_result"
    }
   ],
   "execution_count": 146
  },
  {
   "metadata": {
    "ExecuteTime": {
     "end_time": "2024-11-26T15:37:28.617190Z",
     "start_time": "2024-11-26T15:37:28.610439Z"
    }
   },
   "cell_type": "code",
   "source": [
    "fake_train_dataloader = torch.utils.data.DataLoader(\n",
    "    batch_size=parameters['Training']['batch_size'],\n",
    "    dataset=fake_train_data,\n",
    "    shuffle=True,\n",
    "    num_workers=4,\n",
    ")\n",
    "\n",
    "fake_val_dataloader = torch.utils.data.DataLoader(\n",
    "    batch_size=parameters['Training']['batch_size'],\n",
    "    dataset=fake_val_data,\n",
    "    num_workers=4,\n",
    ")"
   ],
   "id": "c56654edc59e3ea5",
   "outputs": [],
   "execution_count": 147
  },
  {
   "metadata": {
    "ExecuteTime": {
     "end_time": "2024-11-26T15:37:31.951552Z",
     "start_time": "2024-11-26T15:37:31.947225Z"
    }
   },
   "cell_type": "code",
   "source": [
    "callback_model_checkpoint = L.pytorch.callbacks.ModelCheckpoint(\n",
    "    dirpath='checkpoints',\n",
    "    filename='{epoch}',\n",
    "    monitor='val/loss',\n",
    "    save_last=True,\n",
    "    save_top_k=1,\n",
    ")\n",
    "\n",
    "callback_early_stopping = L.pytorch.callbacks.EarlyStopping(\n",
    "    monitor='val/loss',\n",
    "    patience=parameters['Training']['early_stopping_patience'],\n",
    ")\n",
    "\n",
    "\n",
    "callbacks = [\n",
    "    callback_model_checkpoint,\n",
    "    callback_early_stopping,\n",
    "]"
   ],
   "id": "3e3b76956eeafaba",
   "outputs": [],
   "execution_count": 149
  },
  {
   "metadata": {
    "ExecuteTime": {
     "end_time": "2024-11-26T15:37:32.636477Z",
     "start_time": "2024-11-26T15:37:32.221176Z"
    }
   },
   "cell_type": "code",
   "source": [
    "model = Backbone(n_classes=3, user_parameters=parameters)\n",
    "trainer = L.Trainer(\n",
    "    limit_train_batches=parameters['Training']['limit_train_batches'], \n",
    "    max_epochs=parameters['Training']['max_epochs'],\n",
    "    logger=wandb_logger,\n",
    "    callbacks=callbacks,\n",
    "    log_every_n_steps=parameters['Training']['log_every_n_steps'],\n",
    ")"
   ],
   "id": "e407530417b98dd3",
   "outputs": [
    {
     "name": "stderr",
     "output_type": "stream",
     "text": [
      "GPU available: True (cuda), used: True\n",
      "TPU available: False, using: 0 TPU cores\n",
      "HPU available: False, using: 0 HPUs\n",
      "`Trainer(limit_train_batches=1.0)` was configured so 100% of the batches per epoch will be used..\n"
     ]
    }
   ],
   "execution_count": 150
  },
  {
   "metadata": {
    "ExecuteTime": {
     "end_time": "2024-11-26T15:37:34.355807Z",
     "start_time": "2024-11-26T15:37:33.121052Z"
    }
   },
   "cell_type": "code",
   "source": [
    "for batch in fake_train_dataloader:\n",
    "    x, y = batch[0], batch[1]\n",
    "    print(x.shape, y.shape)\n",
    "    break"
   ],
   "id": "96ec8fc8b100b65d",
   "outputs": [
    {
     "name": "stdout",
     "output_type": "stream",
     "text": [
      "torch.Size([32, 3, 512, 512]) torch.Size([32])\n"
     ]
    }
   ],
   "execution_count": 151
  },
  {
   "metadata": {
    "ExecuteTime": {
     "end_time": "2024-11-26T15:40:25.062Z",
     "start_time": "2024-11-26T15:37:34.422886Z"
    }
   },
   "cell_type": "code",
   "source": [
    "trainer.fit(model, fake_train_dataloader, fake_val_dataloader)\n",
    "wandb.finish()"
   ],
   "id": "4ee93e3fa9e5a13a",
   "outputs": [
    {
     "data": {
      "text/plain": [
       "<IPython.core.display.HTML object>"
      ],
      "text/html": [
       "Tracking run with wandb version 0.18.7"
      ]
     },
     "metadata": {},
     "output_type": "display_data"
    },
    {
     "data": {
      "text/plain": [
       "<IPython.core.display.HTML object>"
      ],
      "text/html": [
       "Run data is saved locally in <code>wandb-outputs/wandb/run-20241126_153734-0mvolbfe</code>"
      ]
     },
     "metadata": {},
     "output_type": "display_data"
    },
    {
     "data": {
      "text/plain": [
       "<IPython.core.display.HTML object>"
      ],
      "text/html": [
       "Syncing run <strong><a href='https://wandb.ai/fcoelho-mrc-inesc-tec/debug-runs/runs/0mvolbfe' target=\"_blank\">floral-sunset-3</a></strong> to <a href='https://wandb.ai/fcoelho-mrc-inesc-tec/debug-runs' target=\"_blank\">Weights & Biases</a> (<a href='https://wandb.me/developer-guide' target=\"_blank\">docs</a>)<br/>"
      ]
     },
     "metadata": {},
     "output_type": "display_data"
    },
    {
     "data": {
      "text/plain": [
       "<IPython.core.display.HTML object>"
      ],
      "text/html": [
       " View project at <a href='https://wandb.ai/fcoelho-mrc-inesc-tec/debug-runs' target=\"_blank\">https://wandb.ai/fcoelho-mrc-inesc-tec/debug-runs</a>"
      ]
     },
     "metadata": {},
     "output_type": "display_data"
    },
    {
     "data": {
      "text/plain": [
       "<IPython.core.display.HTML object>"
      ],
      "text/html": [
       " View run at <a href='https://wandb.ai/fcoelho-mrc-inesc-tec/debug-runs/runs/0mvolbfe' target=\"_blank\">https://wandb.ai/fcoelho-mrc-inesc-tec/debug-runs/runs/0mvolbfe</a>"
      ]
     },
     "metadata": {},
     "output_type": "display_data"
    },
    {
     "name": "stderr",
     "output_type": "stream",
     "text": [
      "/home/felipe/Projects/multiple-instance-learning/.venv/lib/python3.12/site-packages/lightning/pytorch/callbacks/model_checkpoint.py:654: Checkpoint directory /home/felipe/Projects/multiple-instance-learning/src/checkpoints exists and is not empty.\n",
      "LOCAL_RANK: 0 - CUDA_VISIBLE_DEVICES: [0]\n",
      "\n",
      "  | Name          | Type                | Params | Mode \n",
      "--------------------------------------------------------------\n",
      "0 | preprocessor  | ImageClassification | 0      | train\n",
      "1 | backbone      | ResNet              | 21.3 M | train\n",
      "2 | loss_function | WeightedKappaLoss   | 0      | train\n",
      "--------------------------------------------------------------\n",
      "21.3 M    Trainable params\n",
      "0         Non-trainable params\n",
      "21.3 M    Total params\n",
      "85.145    Total estimated model params size (MB)\n",
      "118       Modules in train mode\n",
      "0         Modules in eval mode\n"
     ]
    },
    {
     "name": "stdout",
     "output_type": "stream",
     "text": [
      "                                                                           \r"
     ]
    },
    {
     "name": "stderr",
     "output_type": "stream",
     "text": [
      "/home/felipe/Projects/multiple-instance-learning/.venv/lib/python3.12/site-packages/lightning/pytorch/loops/fit_loop.py:298: The number of training batches (32) is smaller than the logging interval Trainer(log_every_n_steps=50). Set a lower value for log_every_n_steps if you want to see logs for the training epoch.\n"
     ]
    },
    {
     "name": "stdout",
     "output_type": "stream",
     "text": [
      "Epoch 0: 100%|██████████| 32/32 [00:10<00:00,  3.15it/s, v_num=lbfe]\n",
      "Validation: |          | 0/? [00:00<?, ?it/s]\u001B[A\n",
      "Validation:   0%|          | 0/32 [00:00<?, ?it/s]\u001B[A\n",
      "Validation DataLoader 0:   0%|          | 0/32 [00:00<?, ?it/s]\u001B[A\n",
      "Validation DataLoader 0:   3%|▎         | 1/32 [00:00<00:02, 10.91it/s]\u001B[A\n",
      "Validation DataLoader 0:   6%|▋         | 2/32 [00:00<00:03,  8.90it/s]\u001B[A\n",
      "Validation DataLoader 0:   9%|▉         | 3/32 [00:00<00:03,  8.34it/s]\u001B[A\n",
      "Validation DataLoader 0:  12%|█▎        | 4/32 [00:00<00:03,  8.28it/s]\u001B[A\n",
      "Validation DataLoader 0:  16%|█▌        | 5/32 [00:00<00:03,  8.13it/s]\u001B[A\n",
      "Validation DataLoader 0:  19%|█▉        | 6/32 [00:00<00:03,  8.16it/s]\u001B[A\n",
      "Validation DataLoader 0:  22%|██▏       | 7/32 [00:00<00:03,  8.05it/s]\u001B[A\n",
      "Validation DataLoader 0:  25%|██▌       | 8/32 [00:00<00:02,  8.06it/s]\u001B[A\n",
      "Validation DataLoader 0:  28%|██▊       | 9/32 [00:01<00:02,  8.07it/s]\u001B[A\n",
      "Validation DataLoader 0:  31%|███▏      | 10/32 [00:01<00:02,  8.10it/s]\u001B[A\n",
      "Validation DataLoader 0:  34%|███▍      | 11/32 [00:01<00:02,  8.12it/s]\u001B[A\n",
      "Validation DataLoader 0:  38%|███▊      | 12/32 [00:01<00:02,  8.13it/s]\u001B[A\n",
      "Validation DataLoader 0:  41%|████      | 13/32 [00:01<00:02,  8.15it/s]\u001B[A\n",
      "Validation DataLoader 0:  44%|████▍     | 14/32 [00:01<00:02,  8.16it/s]\u001B[A\n",
      "Validation DataLoader 0:  47%|████▋     | 15/32 [00:01<00:02,  8.15it/s]\u001B[A\n",
      "Validation DataLoader 0:  50%|█████     | 16/32 [00:01<00:01,  8.16it/s]\u001B[A\n",
      "Validation DataLoader 0:  53%|█████▎    | 17/32 [00:02<00:01,  8.18it/s]\u001B[A\n",
      "Validation DataLoader 0:  56%|█████▋    | 18/32 [00:02<00:01,  8.19it/s]\u001B[A\n",
      "Validation DataLoader 0:  59%|█████▉    | 19/32 [00:02<00:01,  8.19it/s]\u001B[A\n",
      "Validation DataLoader 0:  62%|██████▎   | 20/32 [00:02<00:01,  8.20it/s]\u001B[A\n",
      "Validation DataLoader 0:  66%|██████▌   | 21/32 [00:02<00:01,  8.20it/s]\u001B[A\n",
      "Validation DataLoader 0:  69%|██████▉   | 22/32 [00:02<00:01,  8.18it/s]\u001B[A\n",
      "Validation DataLoader 0:  72%|███████▏  | 23/32 [00:02<00:01,  8.16it/s]\u001B[A\n",
      "Validation DataLoader 0:  75%|███████▌  | 24/32 [00:02<00:00,  8.16it/s]\u001B[A\n",
      "Validation DataLoader 0:  78%|███████▊  | 25/32 [00:03<00:00,  8.18it/s]\u001B[A\n",
      "Validation DataLoader 0:  81%|████████▏ | 26/32 [00:03<00:00,  8.19it/s]\u001B[A\n",
      "Validation DataLoader 0:  84%|████████▍ | 27/32 [00:03<00:00,  8.20it/s]\u001B[A\n",
      "Validation DataLoader 0:  88%|████████▊ | 28/32 [00:03<00:00,  8.21it/s]\u001B[A\n",
      "Validation DataLoader 0:  91%|█████████ | 29/32 [00:03<00:00,  8.22it/s]\u001B[A\n",
      "Validation DataLoader 0:  94%|█████████▍| 30/32 [00:03<00:00,  8.24it/s]\u001B[A\n",
      "Validation DataLoader 0:  97%|█████████▋| 31/32 [00:03<00:00,  8.24it/s]\u001B[A\n",
      "Validation DataLoader 0: 100%|██████████| 32/32 [00:03<00:00,  8.40it/s]\u001B[A\n",
      "Epoch 1: 100%|██████████| 32/32 [00:09<00:00,  3.33it/s, v_num=lbfe]    \u001B[A\n",
      "Validation: |          | 0/? [00:00<?, ?it/s]\u001B[A\n",
      "Validation:   0%|          | 0/32 [00:00<?, ?it/s]\u001B[A\n",
      "Validation DataLoader 0:   0%|          | 0/32 [00:00<?, ?it/s]\u001B[A\n",
      "Validation DataLoader 0:   3%|▎         | 1/32 [00:00<00:02, 11.00it/s]\u001B[A\n",
      "Validation DataLoader 0:   6%|▋         | 2/32 [00:00<00:03,  9.08it/s]\u001B[A\n",
      "Validation DataLoader 0:   9%|▉         | 3/32 [00:00<00:03,  8.64it/s]\u001B[A\n",
      "Validation DataLoader 0:  12%|█▎        | 4/32 [00:00<00:03,  8.35it/s]\u001B[A\n",
      "Validation DataLoader 0:  16%|█▌        | 5/32 [00:00<00:03,  8.23it/s]\u001B[A\n",
      "Validation DataLoader 0:  19%|█▉        | 6/32 [00:00<00:03,  8.12it/s]\u001B[A\n",
      "Validation DataLoader 0:  22%|██▏       | 7/32 [00:00<00:03,  8.11it/s]\u001B[A\n",
      "Validation DataLoader 0:  25%|██▌       | 8/32 [00:00<00:02,  8.15it/s]\u001B[A\n",
      "Validation DataLoader 0:  28%|██▊       | 9/32 [00:01<00:02,  8.19it/s]\u001B[A\n",
      "Validation DataLoader 0:  31%|███▏      | 10/32 [00:01<00:02,  8.16it/s]\u001B[A\n",
      "Validation DataLoader 0:  34%|███▍      | 11/32 [00:01<00:02,  8.18it/s]\u001B[A\n",
      "Validation DataLoader 0:  38%|███▊      | 12/32 [00:01<00:02,  8.18it/s]\u001B[A\n",
      "Validation DataLoader 0:  41%|████      | 13/32 [00:01<00:02,  8.19it/s]\u001B[A\n",
      "Validation DataLoader 0:  44%|████▍     | 14/32 [00:01<00:02,  8.18it/s]\u001B[A\n",
      "Validation DataLoader 0:  47%|████▋     | 15/32 [00:01<00:02,  8.21it/s]\u001B[A\n",
      "Validation DataLoader 0:  50%|█████     | 16/32 [00:01<00:01,  8.22it/s]\u001B[A\n",
      "Validation DataLoader 0:  53%|█████▎    | 17/32 [00:02<00:01,  8.24it/s]\u001B[A\n",
      "Validation DataLoader 0:  56%|█████▋    | 18/32 [00:02<00:01,  8.26it/s]\u001B[A\n",
      "Validation DataLoader 0:  59%|█████▉    | 19/32 [00:02<00:01,  8.26it/s]\u001B[A\n",
      "Validation DataLoader 0:  62%|██████▎   | 20/32 [00:02<00:01,  8.24it/s]\u001B[A\n",
      "Validation DataLoader 0:  66%|██████▌   | 21/32 [00:02<00:01,  8.23it/s]\u001B[A\n",
      "Validation DataLoader 0:  69%|██████▉   | 22/32 [00:02<00:01,  8.23it/s]\u001B[A\n",
      "Validation DataLoader 0:  72%|███████▏  | 23/32 [00:02<00:01,  8.24it/s]\u001B[A\n",
      "Validation DataLoader 0:  75%|███████▌  | 24/32 [00:02<00:00,  8.25it/s]\u001B[A\n",
      "Validation DataLoader 0:  78%|███████▊  | 25/32 [00:03<00:00,  8.27it/s]\u001B[A\n",
      "Validation DataLoader 0:  81%|████████▏ | 26/32 [00:03<00:00,  8.28it/s]\u001B[A\n",
      "Validation DataLoader 0:  84%|████████▍ | 27/32 [00:03<00:00,  8.30it/s]\u001B[A\n",
      "Validation DataLoader 0:  88%|████████▊ | 28/32 [00:03<00:00,  8.32it/s]\u001B[A\n",
      "Validation DataLoader 0:  91%|█████████ | 29/32 [00:03<00:00,  8.34it/s]\u001B[A\n",
      "Validation DataLoader 0:  94%|█████████▍| 30/32 [00:03<00:00,  8.35it/s]\u001B[A\n",
      "Validation DataLoader 0:  97%|█████████▋| 31/32 [00:03<00:00,  8.35it/s]\u001B[A\n",
      "Validation DataLoader 0: 100%|██████████| 32/32 [00:03<00:00,  8.53it/s]\u001B[A\n",
      "Epoch 2: 100%|██████████| 32/32 [00:09<00:00,  3.28it/s, v_num=lbfe]    \u001B[A\n",
      "Validation: |          | 0/? [00:00<?, ?it/s]\u001B[A\n",
      "Validation:   0%|          | 0/32 [00:00<?, ?it/s]\u001B[A\n",
      "Validation DataLoader 0:   0%|          | 0/32 [00:00<?, ?it/s]\u001B[A\n",
      "Validation DataLoader 0:   3%|▎         | 1/32 [00:00<00:03,  8.66it/s]\u001B[A\n",
      "Validation DataLoader 0:   6%|▋         | 2/32 [00:00<00:03,  7.71it/s]\u001B[A\n",
      "Validation DataLoader 0:   9%|▉         | 3/32 [00:00<00:04,  7.21it/s]\u001B[A\n",
      "Validation DataLoader 0:  12%|█▎        | 4/32 [00:00<00:04,  6.32it/s]\u001B[A\n",
      "Validation DataLoader 0:  16%|█▌        | 5/32 [00:00<00:04,  6.28it/s]\u001B[A\n",
      "Validation DataLoader 0:  19%|█▉        | 6/32 [00:00<00:04,  6.10it/s]\u001B[A\n",
      "Validation DataLoader 0:  22%|██▏       | 7/32 [00:01<00:03,  6.32it/s]\u001B[A\n",
      "Validation DataLoader 0:  25%|██▌       | 8/32 [00:01<00:03,  6.49it/s]\u001B[A\n",
      "Validation DataLoader 0:  28%|██▊       | 9/32 [00:01<00:03,  6.46it/s]\u001B[A\n",
      "Validation DataLoader 0:  31%|███▏      | 10/32 [00:01<00:03,  6.59it/s]\u001B[A\n",
      "Validation DataLoader 0:  34%|███▍      | 11/32 [00:01<00:03,  6.49it/s]\u001B[A\n",
      "Validation DataLoader 0:  38%|███▊      | 12/32 [00:01<00:03,  6.58it/s]\u001B[A\n",
      "Validation DataLoader 0:  41%|████      | 13/32 [00:01<00:02,  6.55it/s]\u001B[A\n",
      "Validation DataLoader 0:  44%|████▍     | 14/32 [00:02<00:02,  6.62it/s]\u001B[A\n",
      "Validation DataLoader 0:  47%|████▋     | 15/32 [00:02<00:02,  6.59it/s]\u001B[A\n",
      "Validation DataLoader 0:  50%|█████     | 16/32 [00:02<00:02,  6.65it/s]\u001B[A\n",
      "Validation DataLoader 0:  53%|█████▎    | 17/32 [00:02<00:02,  6.67it/s]\u001B[A\n",
      "Validation DataLoader 0:  56%|█████▋    | 18/32 [00:02<00:02,  6.73it/s]\u001B[A\n",
      "Validation DataLoader 0:  59%|█████▉    | 19/32 [00:02<00:01,  6.76it/s]\u001B[A\n",
      "Validation DataLoader 0:  62%|██████▎   | 20/32 [00:02<00:01,  6.76it/s]\u001B[A\n",
      "Validation DataLoader 0:  66%|██████▌   | 21/32 [00:03<00:01,  6.78it/s]\u001B[A\n",
      "Validation DataLoader 0:  69%|██████▉   | 22/32 [00:03<00:01,  6.58it/s]\u001B[A\n",
      "Validation DataLoader 0:  72%|███████▏  | 23/32 [00:03<00:01,  6.59it/s]\u001B[A\n",
      "Validation DataLoader 0:  75%|███████▌  | 24/32 [00:03<00:01,  6.61it/s]\u001B[A\n",
      "Validation DataLoader 0:  78%|███████▊  | 25/32 [00:03<00:01,  6.63it/s]\u001B[A\n",
      "Validation DataLoader 0:  81%|████████▏ | 26/32 [00:03<00:00,  6.67it/s]\u001B[A\n",
      "Validation DataLoader 0:  84%|████████▍ | 27/32 [00:04<00:00,  6.71it/s]\u001B[A\n",
      "Validation DataLoader 0:  88%|████████▊ | 28/32 [00:04<00:00,  6.75it/s]\u001B[A\n",
      "Validation DataLoader 0:  91%|█████████ | 29/32 [00:04<00:00,  6.78it/s]\u001B[A\n",
      "Validation DataLoader 0:  94%|█████████▍| 30/32 [00:04<00:00,  6.82it/s]\u001B[A\n",
      "Validation DataLoader 0:  97%|█████████▋| 31/32 [00:04<00:00,  6.85it/s]\u001B[A\n",
      "Validation DataLoader 0: 100%|██████████| 32/32 [00:04<00:00,  7.00it/s]\u001B[A\n",
      "Epoch 3: 100%|██████████| 32/32 [00:10<00:00,  3.00it/s, v_num=lbfe]    \u001B[A\n",
      "Validation: |          | 0/? [00:00<?, ?it/s]\u001B[A\n",
      "Validation:   0%|          | 0/32 [00:00<?, ?it/s]\u001B[A\n",
      "Validation DataLoader 0:   0%|          | 0/32 [00:00<?, ?it/s]\u001B[A\n",
      "Validation DataLoader 0:   3%|▎         | 1/32 [00:00<00:02, 10.76it/s]\u001B[A\n",
      "Validation DataLoader 0:   6%|▋         | 2/32 [00:00<00:03,  9.33it/s]\u001B[A\n",
      "Validation DataLoader 0:   9%|▉         | 3/32 [00:00<00:03,  8.79it/s]\u001B[A\n",
      "Validation DataLoader 0:  12%|█▎        | 4/32 [00:00<00:03,  8.49it/s]\u001B[A\n",
      "Validation DataLoader 0:  16%|█▌        | 5/32 [00:00<00:03,  8.32it/s]\u001B[A\n",
      "Validation DataLoader 0:  19%|█▉        | 6/32 [00:00<00:03,  8.26it/s]\u001B[A\n",
      "Validation DataLoader 0:  22%|██▏       | 7/32 [00:00<00:03,  8.22it/s]\u001B[A\n",
      "Validation DataLoader 0:  25%|██▌       | 8/32 [00:00<00:02,  8.20it/s]\u001B[A\n",
      "Validation DataLoader 0:  28%|██▊       | 9/32 [00:01<00:02,  8.01it/s]\u001B[A\n",
      "Validation DataLoader 0:  31%|███▏      | 10/32 [00:01<00:02,  7.99it/s]\u001B[A\n",
      "Validation DataLoader 0:  34%|███▍      | 11/32 [00:01<00:02,  7.70it/s]\u001B[A\n",
      "Validation DataLoader 0:  38%|███▊      | 12/32 [00:01<00:02,  7.69it/s]\u001B[A\n",
      "Validation DataLoader 0:  41%|████      | 13/32 [00:01<00:02,  7.68it/s]\u001B[A\n",
      "Validation DataLoader 0:  44%|████▍     | 14/32 [00:01<00:02,  7.63it/s]\u001B[A\n",
      "Validation DataLoader 0:  47%|████▋     | 15/32 [00:02<00:02,  7.41it/s]\u001B[A\n",
      "Validation DataLoader 0:  50%|█████     | 16/32 [00:02<00:02,  7.39it/s]\u001B[A\n",
      "Validation DataLoader 0:  53%|█████▎    | 17/32 [00:02<00:02,  7.35it/s]\u001B[A\n",
      "Validation DataLoader 0:  56%|█████▋    | 18/32 [00:02<00:01,  7.36it/s]\u001B[A\n",
      "Validation DataLoader 0:  59%|█████▉    | 19/32 [00:02<00:01,  7.20it/s]\u001B[A\n",
      "Validation DataLoader 0:  62%|██████▎   | 20/32 [00:02<00:01,  7.23it/s]\u001B[A\n",
      "Validation DataLoader 0:  66%|██████▌   | 21/32 [00:02<00:01,  7.27it/s]\u001B[A\n",
      "Validation DataLoader 0:  69%|██████▉   | 22/32 [00:03<00:01,  7.29it/s]\u001B[A\n",
      "Validation DataLoader 0:  72%|███████▏  | 23/32 [00:03<00:01,  7.32it/s]\u001B[A\n",
      "Validation DataLoader 0:  75%|███████▌  | 24/32 [00:03<00:01,  7.33it/s]\u001B[A\n",
      "Validation DataLoader 0:  78%|███████▊  | 25/32 [00:03<00:00,  7.35it/s]\u001B[A\n",
      "Validation DataLoader 0:  81%|████████▏ | 26/32 [00:03<00:00,  7.37it/s]\u001B[A\n",
      "Validation DataLoader 0:  84%|████████▍ | 27/32 [00:03<00:00,  7.40it/s]\u001B[A\n",
      "Validation DataLoader 0:  88%|████████▊ | 28/32 [00:03<00:00,  7.43it/s]\u001B[A\n",
      "Validation DataLoader 0:  91%|█████████ | 29/32 [00:03<00:00,  7.45it/s]\u001B[A\n",
      "Validation DataLoader 0:  94%|█████████▍| 30/32 [00:04<00:00,  7.46it/s]\u001B[A\n",
      "Validation DataLoader 0:  97%|█████████▋| 31/32 [00:04<00:00,  7.47it/s]\u001B[A\n",
      "Validation DataLoader 0: 100%|██████████| 32/32 [00:04<00:00,  7.61it/s]\u001B[A\n",
      "Epoch 4: 100%|██████████| 32/32 [00:10<00:00,  3.15it/s, v_num=lbfe]    \u001B[A\n",
      "Validation: |          | 0/? [00:00<?, ?it/s]\u001B[A\n",
      "Validation:   0%|          | 0/32 [00:00<?, ?it/s]\u001B[A\n",
      "Validation DataLoader 0:   0%|          | 0/32 [00:00<?, ?it/s]\u001B[A\n",
      "Validation DataLoader 0:   3%|▎         | 1/32 [00:00<00:04,  7.38it/s]\u001B[A\n",
      "Validation DataLoader 0:   6%|▋         | 2/32 [00:00<00:04,  7.40it/s]\u001B[A\n",
      "Validation DataLoader 0:   9%|▉         | 3/32 [00:00<00:04,  7.01it/s]\u001B[A\n",
      "Validation DataLoader 0:  12%|█▎        | 4/32 [00:00<00:03,  7.20it/s]\u001B[A\n",
      "Validation DataLoader 0:  16%|█▌        | 5/32 [00:00<00:03,  7.06it/s]\u001B[A\n",
      "Validation DataLoader 0:  19%|█▉        | 6/32 [00:00<00:03,  7.19it/s]\u001B[A\n",
      "Validation DataLoader 0:  22%|██▏       | 7/32 [00:00<00:03,  7.27it/s]\u001B[A\n",
      "Validation DataLoader 0:  25%|██▌       | 8/32 [00:01<00:03,  7.33it/s]\u001B[A\n",
      "Validation DataLoader 0:  28%|██▊       | 9/32 [00:01<00:03,  7.03it/s]\u001B[A\n",
      "Validation DataLoader 0:  31%|███▏      | 10/32 [00:01<00:03,  7.10it/s]\u001B[A\n",
      "Validation DataLoader 0:  34%|███▍      | 11/32 [00:01<00:02,  7.20it/s]\u001B[A\n",
      "Validation DataLoader 0:  38%|███▊      | 12/32 [00:01<00:02,  7.20it/s]\u001B[A\n",
      "Validation DataLoader 0:  41%|████      | 13/32 [00:01<00:02,  6.88it/s]\u001B[A\n",
      "Validation DataLoader 0:  44%|████▍     | 14/32 [00:02<00:02,  6.86it/s]\u001B[A\n",
      "Validation DataLoader 0:  47%|████▋     | 15/32 [00:02<00:02,  6.51it/s]\u001B[A\n",
      "Validation DataLoader 0:  50%|█████     | 16/32 [00:02<00:02,  6.54it/s]\u001B[A\n",
      "Validation DataLoader 0:  53%|█████▎    | 17/32 [00:02<00:02,  6.56it/s]\u001B[A\n",
      "Validation DataLoader 0:  56%|█████▋    | 18/32 [00:02<00:02,  6.61it/s]\u001B[A\n",
      "Validation DataLoader 0:  59%|█████▉    | 19/32 [00:02<00:01,  6.60it/s]\u001B[A\n",
      "Validation DataLoader 0:  62%|██████▎   | 20/32 [00:03<00:01,  6.50it/s]\u001B[A\n",
      "Validation DataLoader 0:  66%|██████▌   | 21/32 [00:03<00:01,  6.55it/s]\u001B[A\n",
      "Validation DataLoader 0:  69%|██████▉   | 22/32 [00:03<00:01,  6.58it/s]\u001B[A\n",
      "Validation DataLoader 0:  72%|███████▏  | 23/32 [00:03<00:01,  6.54it/s]\u001B[A\n",
      "Validation DataLoader 0:  75%|███████▌  | 24/32 [00:03<00:01,  6.58it/s]\u001B[A\n",
      "Validation DataLoader 0:  78%|███████▊  | 25/32 [00:03<00:01,  6.62it/s]\u001B[A\n",
      "Validation DataLoader 0:  81%|████████▏ | 26/32 [00:03<00:00,  6.67it/s]\u001B[A\n",
      "Validation DataLoader 0:  84%|████████▍ | 27/32 [00:04<00:00,  6.72it/s]\u001B[A\n",
      "Validation DataLoader 0:  88%|████████▊ | 28/32 [00:04<00:00,  6.74it/s]\u001B[A\n",
      "Validation DataLoader 0:  91%|█████████ | 29/32 [00:04<00:00,  6.77it/s]\u001B[A\n",
      "Validation DataLoader 0:  94%|█████████▍| 30/32 [00:04<00:00,  6.80it/s]\u001B[A\n",
      "Validation DataLoader 0:  97%|█████████▋| 31/32 [00:04<00:00,  6.84it/s]\u001B[A\n",
      "Validation DataLoader 0: 100%|██████████| 32/32 [00:04<00:00,  6.99it/s]\u001B[A\n",
      "Epoch 5: 100%|██████████| 32/32 [00:10<00:00,  3.15it/s, v_num=lbfe]    \u001B[A\n",
      "Validation: |          | 0/? [00:00<?, ?it/s]\u001B[A\n",
      "Validation:   0%|          | 0/32 [00:00<?, ?it/s]\u001B[A\n",
      "Validation DataLoader 0:   0%|          | 0/32 [00:00<?, ?it/s]\u001B[A\n",
      "Validation DataLoader 0:   3%|▎         | 1/32 [00:00<00:04,  6.50it/s]\u001B[A\n",
      "Validation DataLoader 0:   6%|▋         | 2/32 [00:00<00:05,  5.50it/s]\u001B[A\n",
      "Validation DataLoader 0:   9%|▉         | 3/32 [00:00<00:04,  6.05it/s]\u001B[A\n",
      "Validation DataLoader 0:  12%|█▎        | 4/32 [00:00<00:04,  6.36it/s]\u001B[A\n",
      "Validation DataLoader 0:  16%|█▌        | 5/32 [00:00<00:04,  6.14it/s]\u001B[A\n",
      "Validation DataLoader 0:  19%|█▉        | 6/32 [00:00<00:04,  6.27it/s]\u001B[A\n",
      "Validation DataLoader 0:  22%|██▏       | 7/32 [00:01<00:03,  6.44it/s]\u001B[A\n",
      "Validation DataLoader 0:  25%|██▌       | 8/32 [00:01<00:03,  6.08it/s]\u001B[A\n",
      "Validation DataLoader 0:  28%|██▊       | 9/32 [00:01<00:03,  5.83it/s]\u001B[A\n",
      "Validation DataLoader 0:  31%|███▏      | 10/32 [00:01<00:03,  5.96it/s]\u001B[A\n",
      "Validation DataLoader 0:  34%|███▍      | 11/32 [00:01<00:03,  6.08it/s]\u001B[A\n",
      "Validation DataLoader 0:  38%|███▊      | 12/32 [00:02<00:03,  5.84it/s]\u001B[A\n",
      "Validation DataLoader 0:  41%|████      | 13/32 [00:02<00:03,  5.96it/s]\u001B[A\n",
      "Validation DataLoader 0:  44%|████▍     | 14/32 [00:02<00:03,  5.76it/s]\u001B[A\n",
      "Validation DataLoader 0:  47%|████▋     | 15/32 [00:02<00:02,  5.72it/s]\u001B[A\n",
      "Validation DataLoader 0:  50%|█████     | 16/32 [00:02<00:02,  5.81it/s]\u001B[A\n",
      "Validation DataLoader 0:  53%|█████▎    | 17/32 [00:02<00:02,  5.86it/s]\u001B[A\n",
      "Validation DataLoader 0:  56%|█████▋    | 18/32 [00:03<00:02,  5.86it/s]\u001B[A\n",
      "Validation DataLoader 0:  59%|█████▉    | 19/32 [00:03<00:02,  5.84it/s]\u001B[A\n",
      "Validation DataLoader 0:  62%|██████▎   | 20/32 [00:03<00:02,  5.84it/s]\u001B[A\n",
      "Validation DataLoader 0:  66%|██████▌   | 21/32 [00:03<00:01,  5.87it/s]\u001B[A\n",
      "Validation DataLoader 0:  69%|██████▉   | 22/32 [00:03<00:01,  5.88it/s]\u001B[A\n",
      "Validation DataLoader 0:  72%|███████▏  | 23/32 [00:03<00:01,  5.89it/s]\u001B[A\n",
      "Validation DataLoader 0:  75%|███████▌  | 24/32 [00:04<00:01,  5.94it/s]\u001B[A\n",
      "Validation DataLoader 0:  78%|███████▊  | 25/32 [00:04<00:01,  5.97it/s]\u001B[A\n",
      "Validation DataLoader 0:  81%|████████▏ | 26/32 [00:04<00:01,  5.98it/s]\u001B[A\n",
      "Validation DataLoader 0:  84%|████████▍ | 27/32 [00:04<00:00,  6.01it/s]\u001B[A\n",
      "Validation DataLoader 0:  88%|████████▊ | 28/32 [00:04<00:00,  6.06it/s]\u001B[A\n",
      "Validation DataLoader 0:  91%|█████████ | 29/32 [00:04<00:00,  6.10it/s]\u001B[A\n",
      "Validation DataLoader 0:  94%|█████████▍| 30/32 [00:04<00:00,  6.13it/s]\u001B[A\n",
      "Validation DataLoader 0:  97%|█████████▋| 31/32 [00:05<00:00,  6.18it/s]\u001B[A\n",
      "Validation DataLoader 0: 100%|██████████| 32/32 [00:05<00:00,  6.31it/s]\u001B[A\n",
      "Epoch 6: 100%|██████████| 32/32 [00:10<00:00,  3.02it/s, v_num=lbfe]    \u001B[A\n",
      "Validation: |          | 0/? [00:00<?, ?it/s]\u001B[A\n",
      "Validation:   0%|          | 0/32 [00:00<?, ?it/s]\u001B[A\n",
      "Validation DataLoader 0:   0%|          | 0/32 [00:00<?, ?it/s]\u001B[A\n",
      "Validation DataLoader 0:   3%|▎         | 1/32 [00:00<00:03,  9.96it/s]\u001B[A\n",
      "Validation DataLoader 0:   6%|▋         | 2/32 [00:00<00:07,  4.08it/s]\u001B[A\n",
      "Validation DataLoader 0:   9%|▉         | 3/32 [00:00<00:05,  4.90it/s]\u001B[A\n",
      "Validation DataLoader 0:  12%|█▎        | 4/32 [00:00<00:05,  5.42it/s]\u001B[A\n",
      "Validation DataLoader 0:  16%|█▌        | 5/32 [00:00<00:04,  5.60it/s]\u001B[A\n",
      "Validation DataLoader 0:  19%|█▉        | 6/32 [00:01<00:04,  5.89it/s]\u001B[A\n",
      "Validation DataLoader 0:  22%|██▏       | 7/32 [00:01<00:04,  5.90it/s]\u001B[A\n",
      "Validation DataLoader 0:  25%|██▌       | 8/32 [00:01<00:04,  5.47it/s]\u001B[A\n",
      "Validation DataLoader 0:  28%|██▊       | 9/32 [00:02<00:05,  4.47it/s]\u001B[A\n",
      "Validation DataLoader 0:  31%|███▏      | 10/32 [00:02<00:04,  4.69it/s]\u001B[A\n",
      "Validation DataLoader 0:  34%|███▍      | 11/32 [00:02<00:04,  4.82it/s]\u001B[A\n",
      "Validation DataLoader 0:  38%|███▊      | 12/32 [00:02<00:04,  4.98it/s]\u001B[A\n",
      "Validation DataLoader 0:  41%|████      | 13/32 [00:02<00:03,  5.13it/s]\u001B[A\n",
      "Validation DataLoader 0:  44%|████▍     | 14/32 [00:02<00:03,  5.20it/s]\u001B[A\n",
      "Validation DataLoader 0:  47%|████▋     | 15/32 [00:02<00:03,  5.31it/s]\u001B[A\n",
      "Validation DataLoader 0:  50%|█████     | 16/32 [00:03<00:03,  5.24it/s]\u001B[A\n",
      "Validation DataLoader 0:  53%|█████▎    | 17/32 [00:03<00:02,  5.30it/s]\u001B[A\n",
      "Validation DataLoader 0:  56%|█████▋    | 18/32 [00:03<00:02,  5.15it/s]\u001B[A\n",
      "Validation DataLoader 0:  59%|█████▉    | 19/32 [00:03<00:02,  4.80it/s]\u001B[A\n",
      "Validation DataLoader 0:  62%|██████▎   | 20/32 [00:04<00:02,  4.90it/s]\u001B[A\n",
      "Validation DataLoader 0:  66%|██████▌   | 21/32 [00:04<00:02,  4.99it/s]\u001B[A\n",
      "Validation DataLoader 0:  69%|██████▉   | 22/32 [00:04<00:02,  4.94it/s]\u001B[A\n",
      "Validation DataLoader 0:  72%|███████▏  | 23/32 [00:04<00:01,  4.98it/s]\u001B[A\n",
      "Validation DataLoader 0:  75%|███████▌  | 24/32 [00:04<00:01,  5.06it/s]\u001B[A\n",
      "Validation DataLoader 0:  78%|███████▊  | 25/32 [00:04<00:01,  5.14it/s]\u001B[A\n",
      "Validation DataLoader 0:  81%|████████▏ | 26/32 [00:04<00:01,  5.21it/s]\u001B[A\n",
      "Validation DataLoader 0:  84%|████████▍ | 27/32 [00:05<00:00,  5.26it/s]\u001B[A\n",
      "Validation DataLoader 0:  88%|████████▊ | 28/32 [00:05<00:00,  5.29it/s]\u001B[A\n",
      "Validation DataLoader 0:  91%|█████████ | 29/32 [00:05<00:00,  5.35it/s]\u001B[A\n",
      "Validation DataLoader 0:  94%|█████████▍| 30/32 [00:05<00:00,  5.41it/s]\u001B[A\n",
      "Validation DataLoader 0:  97%|█████████▋| 31/32 [00:05<00:00,  5.47it/s]\u001B[A\n",
      "Validation DataLoader 0: 100%|██████████| 32/32 [00:05<00:00,  5.60it/s]\u001B[A\n",
      "Epoch 7: 100%|██████████| 32/32 [00:10<00:00,  3.12it/s, v_num=lbfe]    \u001B[A\n",
      "Validation: |          | 0/? [00:00<?, ?it/s]\u001B[A\n",
      "Validation:   0%|          | 0/32 [00:00<?, ?it/s]\u001B[A\n",
      "Validation DataLoader 0:   0%|          | 0/32 [00:00<?, ?it/s]\u001B[A\n",
      "Validation DataLoader 0:   3%|▎         | 1/32 [00:00<00:03,  8.06it/s]\u001B[A\n",
      "Validation DataLoader 0:   6%|▋         | 2/32 [00:00<00:05,  5.76it/s]\u001B[A\n",
      "Validation DataLoader 0:   9%|▉         | 3/32 [00:00<00:04,  6.31it/s]\u001B[A\n",
      "Validation DataLoader 0:  12%|█▎        | 4/32 [00:00<00:04,  6.22it/s]\u001B[A\n",
      "Validation DataLoader 0:  16%|█▌        | 5/32 [00:00<00:04,  5.80it/s]\u001B[A\n",
      "Validation DataLoader 0:  19%|█▉        | 6/32 [00:00<00:04,  6.01it/s]\u001B[A\n",
      "Validation DataLoader 0:  22%|██▏       | 7/32 [00:01<00:04,  6.19it/s]\u001B[A\n",
      "Validation DataLoader 0:  25%|██▌       | 8/32 [00:01<00:03,  6.31it/s]\u001B[A\n",
      "Validation DataLoader 0:  28%|██▊       | 9/32 [00:01<00:03,  6.12it/s]\u001B[A\n",
      "Validation DataLoader 0:  31%|███▏      | 10/32 [00:01<00:03,  6.18it/s]\u001B[A\n",
      "Validation DataLoader 0:  34%|███▍      | 11/32 [00:01<00:03,  6.30it/s]\u001B[A\n",
      "Validation DataLoader 0:  38%|███▊      | 12/32 [00:01<00:03,  6.28it/s]\u001B[A\n",
      "Validation DataLoader 0:  41%|████      | 13/32 [00:02<00:02,  6.39it/s]\u001B[A\n",
      "Validation DataLoader 0:  44%|████▍     | 14/32 [00:02<00:02,  6.41it/s]\u001B[A\n",
      "Validation DataLoader 0:  47%|████▋     | 15/32 [00:02<00:02,  6.48it/s]\u001B[A\n",
      "Validation DataLoader 0:  50%|█████     | 16/32 [00:02<00:02,  6.51it/s]\u001B[A\n",
      "Validation DataLoader 0:  53%|█████▎    | 17/32 [00:02<00:02,  6.43it/s]\u001B[A\n",
      "Validation DataLoader 0:  56%|█████▋    | 18/32 [00:02<00:02,  6.45it/s]\u001B[A\n",
      "Validation DataLoader 0:  59%|█████▉    | 19/32 [00:02<00:02,  6.42it/s]\u001B[A\n",
      "Validation DataLoader 0:  62%|██████▎   | 20/32 [00:03<00:01,  6.47it/s]\u001B[A\n",
      "Validation DataLoader 0:  66%|██████▌   | 21/32 [00:03<00:01,  6.51it/s]\u001B[A\n",
      "Validation DataLoader 0:  69%|██████▉   | 22/32 [00:03<00:01,  6.50it/s]\u001B[A\n",
      "Validation DataLoader 0:  72%|███████▏  | 23/32 [00:03<00:01,  6.56it/s]\u001B[A\n",
      "Validation DataLoader 0:  75%|███████▌  | 24/32 [00:03<00:01,  6.57it/s]\u001B[A\n",
      "Validation DataLoader 0:  78%|███████▊  | 25/32 [00:03<00:01,  6.61it/s]\u001B[A\n",
      "Validation DataLoader 0:  81%|████████▏ | 26/32 [00:03<00:00,  6.63it/s]\u001B[A\n",
      "Validation DataLoader 0:  84%|████████▍ | 27/32 [00:04<00:00,  6.67it/s]\u001B[A\n",
      "Validation DataLoader 0:  88%|████████▊ | 28/32 [00:04<00:00,  6.68it/s]\u001B[A\n",
      "Validation DataLoader 0:  91%|█████████ | 29/32 [00:04<00:00,  6.71it/s]\u001B[A\n",
      "Validation DataLoader 0:  94%|█████████▍| 30/32 [00:04<00:00,  6.73it/s]\u001B[A\n",
      "Validation DataLoader 0:  97%|█████████▋| 31/32 [00:04<00:00,  6.77it/s]\u001B[A\n",
      "Validation DataLoader 0: 100%|██████████| 32/32 [00:04<00:00,  6.92it/s]\u001B[A\n",
      "Epoch 8: 100%|██████████| 32/32 [00:10<00:00,  3.15it/s, v_num=lbfe]    \u001B[A\n",
      "Validation: |          | 0/? [00:00<?, ?it/s]\u001B[A\n",
      "Validation:   0%|          | 0/32 [00:00<?, ?it/s]\u001B[A\n",
      "Validation DataLoader 0:   0%|          | 0/32 [00:00<?, ?it/s]\u001B[A\n",
      "Validation DataLoader 0:   3%|▎         | 1/32 [00:00<00:02, 10.77it/s]\u001B[A\n",
      "Validation DataLoader 0:   6%|▋         | 2/32 [00:00<00:03,  9.24it/s]\u001B[A\n",
      "Validation DataLoader 0:   9%|▉         | 3/32 [00:00<00:03,  8.69it/s]\u001B[A\n",
      "Validation DataLoader 0:  12%|█▎        | 4/32 [00:00<00:03,  8.40it/s]\u001B[A\n",
      "Validation DataLoader 0:  16%|█▌        | 5/32 [00:00<00:03,  8.16it/s]\u001B[A\n",
      "Validation DataLoader 0:  19%|█▉        | 6/32 [00:00<00:03,  8.10it/s]\u001B[A\n",
      "Validation DataLoader 0:  22%|██▏       | 7/32 [00:00<00:03,  8.18it/s]\u001B[A\n",
      "Validation DataLoader 0:  25%|██▌       | 8/32 [00:00<00:02,  8.23it/s]\u001B[A\n",
      "Validation DataLoader 0:  28%|██▊       | 9/32 [00:01<00:02,  8.27it/s]\u001B[A\n",
      "Validation DataLoader 0:  31%|███▏      | 10/32 [00:01<00:02,  8.26it/s]\u001B[A\n",
      "Validation DataLoader 0:  34%|███▍      | 11/32 [00:01<00:02,  8.26it/s]\u001B[A\n",
      "Validation DataLoader 0:  38%|███▊      | 12/32 [00:01<00:02,  8.20it/s]\u001B[A\n",
      "Validation DataLoader 0:  41%|████      | 13/32 [00:01<00:02,  8.16it/s]\u001B[A\n",
      "Validation DataLoader 0:  44%|████▍     | 14/32 [00:01<00:02,  8.11it/s]\u001B[A\n",
      "Validation DataLoader 0:  47%|████▋     | 15/32 [00:01<00:02,  8.12it/s]\u001B[A\n",
      "Validation DataLoader 0:  50%|█████     | 16/32 [00:01<00:01,  8.14it/s]\u001B[A\n",
      "Validation DataLoader 0:  53%|█████▎    | 17/32 [00:02<00:01,  8.16it/s]\u001B[A\n",
      "Validation DataLoader 0:  56%|█████▋    | 18/32 [00:02<00:01,  8.18it/s]\u001B[A\n",
      "Validation DataLoader 0:  59%|█████▉    | 19/32 [00:02<00:01,  8.17it/s]\u001B[A\n",
      "Validation DataLoader 0:  62%|██████▎   | 20/32 [00:02<00:01,  8.18it/s]\u001B[A\n",
      "Validation DataLoader 0:  66%|██████▌   | 21/32 [00:02<00:01,  8.17it/s]\u001B[A\n",
      "Validation DataLoader 0:  69%|██████▉   | 22/32 [00:02<00:01,  8.16it/s]\u001B[A\n",
      "Validation DataLoader 0:  72%|███████▏  | 23/32 [00:02<00:01,  8.17it/s]\u001B[A\n",
      "Validation DataLoader 0:  75%|███████▌  | 24/32 [00:02<00:00,  8.16it/s]\u001B[A\n",
      "Validation DataLoader 0:  78%|███████▊  | 25/32 [00:03<00:00,  8.17it/s]\u001B[A\n",
      "Validation DataLoader 0:  81%|████████▏ | 26/32 [00:03<00:00,  8.19it/s]\u001B[A\n",
      "Validation DataLoader 0:  84%|████████▍ | 27/32 [00:03<00:00,  8.20it/s]\u001B[A\n",
      "Validation DataLoader 0:  88%|████████▊ | 28/32 [00:03<00:00,  8.21it/s]\u001B[A\n",
      "Validation DataLoader 0:  91%|█████████ | 29/32 [00:03<00:00,  8.22it/s]\u001B[A\n",
      "Validation DataLoader 0:  94%|█████████▍| 30/32 [00:03<00:00,  8.24it/s]\u001B[A\n",
      "Validation DataLoader 0:  97%|█████████▋| 31/32 [00:03<00:00,  8.24it/s]\u001B[A\n",
      "Validation DataLoader 0: 100%|██████████| 32/32 [00:03<00:00,  8.42it/s]\u001B[A\n",
      "Epoch 9: 100%|██████████| 32/32 [00:09<00:00,  3.32it/s, v_num=lbfe]    \u001B[A\n",
      "Validation: |          | 0/? [00:00<?, ?it/s]\u001B[A\n",
      "Validation:   0%|          | 0/32 [00:00<?, ?it/s]\u001B[A\n",
      "Validation DataLoader 0:   0%|          | 0/32 [00:00<?, ?it/s]\u001B[A\n",
      "Validation DataLoader 0:   3%|▎         | 1/32 [00:00<00:02, 10.73it/s]\u001B[A\n",
      "Validation DataLoader 0:   6%|▋         | 2/32 [00:00<00:03,  8.85it/s]\u001B[A\n",
      "Validation DataLoader 0:   9%|▉         | 3/32 [00:00<00:03,  8.48it/s]\u001B[A\n",
      "Validation DataLoader 0:  12%|█▎        | 4/32 [00:00<00:03,  8.29it/s]\u001B[A\n",
      "Validation DataLoader 0:  16%|█▌        | 5/32 [00:00<00:03,  8.09it/s]\u001B[A\n",
      "Validation DataLoader 0:  19%|█▉        | 6/32 [00:00<00:03,  8.10it/s]\u001B[A\n",
      "Validation DataLoader 0:  22%|██▏       | 7/32 [00:00<00:03,  8.17it/s]\u001B[A\n",
      "Validation DataLoader 0:  25%|██▌       | 8/32 [00:00<00:02,  8.19it/s]\u001B[A\n",
      "Validation DataLoader 0:  28%|██▊       | 9/32 [00:01<00:02,  8.16it/s]\u001B[A\n",
      "Validation DataLoader 0:  31%|███▏      | 10/32 [00:01<00:02,  8.18it/s]\u001B[A\n",
      "Validation DataLoader 0:  34%|███▍      | 11/32 [00:01<00:02,  8.18it/s]\u001B[A\n",
      "Validation DataLoader 0:  38%|███▊      | 12/32 [00:01<00:02,  8.20it/s]\u001B[A\n",
      "Validation DataLoader 0:  41%|████      | 13/32 [00:01<00:02,  8.20it/s]\u001B[A\n",
      "Validation DataLoader 0:  44%|████▍     | 14/32 [00:01<00:02,  8.22it/s]\u001B[A\n",
      "Validation DataLoader 0:  47%|████▋     | 15/32 [00:01<00:02,  8.22it/s]\u001B[A\n",
      "Validation DataLoader 0:  50%|█████     | 16/32 [00:01<00:01,  8.20it/s]\u001B[A\n",
      "Validation DataLoader 0:  53%|█████▎    | 17/32 [00:02<00:01,  8.21it/s]\u001B[A\n",
      "Validation DataLoader 0:  56%|█████▋    | 18/32 [00:02<00:01,  8.22it/s]\u001B[A\n",
      "Validation DataLoader 0:  59%|█████▉    | 19/32 [00:02<00:01,  8.23it/s]\u001B[A\n",
      "Validation DataLoader 0:  62%|██████▎   | 20/32 [00:02<00:01,  8.23it/s]\u001B[A\n",
      "Validation DataLoader 0:  66%|██████▌   | 21/32 [00:02<00:01,  8.22it/s]\u001B[A\n",
      "Validation DataLoader 0:  69%|██████▉   | 22/32 [00:02<00:01,  8.23it/s]\u001B[A\n",
      "Validation DataLoader 0:  72%|███████▏  | 23/32 [00:02<00:01,  8.24it/s]\u001B[A\n",
      "Validation DataLoader 0:  75%|███████▌  | 24/32 [00:02<00:00,  8.23it/s]\u001B[A\n",
      "Validation DataLoader 0:  78%|███████▊  | 25/32 [00:03<00:00,  8.23it/s]\u001B[A\n",
      "Validation DataLoader 0:  81%|████████▏ | 26/32 [00:03<00:00,  8.24it/s]\u001B[A\n",
      "Validation DataLoader 0:  84%|████████▍ | 27/32 [00:03<00:00,  8.26it/s]\u001B[A\n",
      "Validation DataLoader 0:  88%|████████▊ | 28/32 [00:03<00:00,  8.27it/s]\u001B[A\n",
      "Validation DataLoader 0:  91%|█████████ | 29/32 [00:03<00:00,  8.28it/s]\u001B[A\n",
      "Validation DataLoader 0:  94%|█████████▍| 30/32 [00:03<00:00,  8.28it/s]\u001B[A\n",
      "Validation DataLoader 0:  97%|█████████▋| 31/32 [00:03<00:00,  8.29it/s]\u001B[A\n",
      "Validation DataLoader 0: 100%|██████████| 32/32 [00:03<00:00,  8.47it/s]\u001B[A\n",
      "Epoch 9: 100%|██████████| 32/32 [00:13<00:00,  2.30it/s, v_num=lbfe]    \u001B[A"
     ]
    },
    {
     "name": "stderr",
     "output_type": "stream",
     "text": [
      "`Trainer.fit` stopped: `max_epochs=10` reached.\n"
     ]
    },
    {
     "name": "stdout",
     "output_type": "stream",
     "text": [
      "Epoch 9: 100%|██████████| 32/32 [00:14<00:00,  2.16it/s, v_num=lbfe]\n"
     ]
    },
    {
     "data": {
      "text/plain": [
       "<IPython.core.display.HTML object>"
      ],
      "text/html": [
       "\n",
       "    <style>\n",
       "        .wandb-row {\n",
       "            display: flex;\n",
       "            flex-direction: row;\n",
       "            flex-wrap: wrap;\n",
       "            justify-content: flex-start;\n",
       "            width: 100%;\n",
       "        }\n",
       "        .wandb-col {\n",
       "            display: flex;\n",
       "            flex-direction: column;\n",
       "            flex-basis: 100%;\n",
       "            flex: 1;\n",
       "            padding: 10px;\n",
       "        }\n",
       "    </style>\n",
       "<div class=\"wandb-row\"><div class=\"wandb-col\"><h3>Run history:</h3><br/><table class=\"wandb\"><tr><td>epoch</td><td>▁▂▂▃▃▃▄▄▅▆▆▆▆▇██</td></tr><tr><td>train/accuracy</td><td>▄▁▃▄▅█</td></tr><tr><td>train/loss</td><td>▄█▄▃▃▁</td></tr><tr><td>train/qwk</td><td>▅▁▁▃▅█</td></tr><tr><td>train/recall</td><td>▄▁▃▄▅█</td></tr><tr><td>trainer/global_step</td><td>▁▁▂▃▃▃▄▄▅▅▆▆▆▇██</td></tr><tr><td>val/accuracy</td><td>▁▂▂▃▄▅▆▆▇█</td></tr><tr><td>val/loss</td><td>█▇▆▅▄▄▃▂▂▁</td></tr><tr><td>val/qwk</td><td>▁▂▃▄▄▅▆▆▇█</td></tr><tr><td>val/recall</td><td>▁▂▂▃▄▅▆▆▇█</td></tr></table><br/></div><div class=\"wandb-col\"><h3>Run summary:</h3><br/><table class=\"wandb\"><tr><td>epoch</td><td>9</td></tr><tr><td>train/accuracy</td><td>0.71875</td></tr><tr><td>train/loss</td><td>0.89111</td></tr><tr><td>train/qwk</td><td>0.48624</td></tr><tr><td>train/recall</td><td>0.71875</td></tr><tr><td>trainer/global_step</td><td>319</td></tr><tr><td>val/accuracy</td><td>0.791</td></tr><tr><td>val/loss</td><td>0.82822</td></tr><tr><td>val/qwk</td><td>0.66596</td></tr><tr><td>val/recall</td><td>0.791</td></tr></table><br/></div></div>"
      ]
     },
     "metadata": {},
     "output_type": "display_data"
    },
    {
     "data": {
      "text/plain": [
       "<IPython.core.display.HTML object>"
      ],
      "text/html": [
       " View run <strong style=\"color:#cdcd00\">floral-sunset-3</strong> at: <a href='https://wandb.ai/fcoelho-mrc-inesc-tec/debug-runs/runs/0mvolbfe' target=\"_blank\">https://wandb.ai/fcoelho-mrc-inesc-tec/debug-runs/runs/0mvolbfe</a><br/> View project at: <a href='https://wandb.ai/fcoelho-mrc-inesc-tec/debug-runs' target=\"_blank\">https://wandb.ai/fcoelho-mrc-inesc-tec/debug-runs</a><br/>Synced 5 W&B file(s), 0 media file(s), 0 artifact file(s) and 0 other file(s)"
      ]
     },
     "metadata": {},
     "output_type": "display_data"
    },
    {
     "data": {
      "text/plain": [
       "<IPython.core.display.HTML object>"
      ],
      "text/html": [
       "Find logs at: <code>wandb-outputs/wandb/run-20241126_153734-0mvolbfe/logs</code>"
      ]
     },
     "metadata": {},
     "output_type": "display_data"
    }
   ],
   "execution_count": 152
  },
  {
   "metadata": {
    "ExecuteTime": {
     "end_time": "2024-11-26T13:28:53.510542Z",
     "start_time": "2024-11-26T13:28:53.506432Z"
    }
   },
   "cell_type": "code",
   "source": [
    "for batch in fake_train_dataloader:\n",
    "    x, y = batch[0], batch[1]\n",
    "    y_hat = model(x)\n",
    "    acc = torch.metrics.accuracy(y_hat, y)\n",
    "    print(x.shape, y.shape)\n",
    "    break"
   ],
   "id": "4a193550567a979e",
   "outputs": [
    {
     "data": {
      "text/plain": [
       "Backbone(\n",
       "  (preprocessor): ImageClassification(\n",
       "      crop_size=[224]\n",
       "      resize_size=[256]\n",
       "      mean=[0.485, 0.456, 0.406]\n",
       "      std=[0.229, 0.224, 0.225]\n",
       "      interpolation=InterpolationMode.BILINEAR\n",
       "  )\n",
       "  (backbone): ResNet(\n",
       "    (conv1): Conv2d(3, 64, kernel_size=(7, 7), stride=(2, 2), padding=(3, 3), bias=False)\n",
       "    (bn1): BatchNorm2d(64, eps=1e-05, momentum=0.1, affine=True, track_running_stats=True)\n",
       "    (relu): ReLU(inplace=True)\n",
       "    (maxpool): MaxPool2d(kernel_size=3, stride=2, padding=1, dilation=1, ceil_mode=False)\n",
       "    (layer1): Sequential(\n",
       "      (0): BasicBlock(\n",
       "        (conv1): Conv2d(64, 64, kernel_size=(3, 3), stride=(1, 1), padding=(1, 1), bias=False)\n",
       "        (bn1): BatchNorm2d(64, eps=1e-05, momentum=0.1, affine=True, track_running_stats=True)\n",
       "        (relu): ReLU(inplace=True)\n",
       "        (conv2): Conv2d(64, 64, kernel_size=(3, 3), stride=(1, 1), padding=(1, 1), bias=False)\n",
       "        (bn2): BatchNorm2d(64, eps=1e-05, momentum=0.1, affine=True, track_running_stats=True)\n",
       "      )\n",
       "      (1): BasicBlock(\n",
       "        (conv1): Conv2d(64, 64, kernel_size=(3, 3), stride=(1, 1), padding=(1, 1), bias=False)\n",
       "        (bn1): BatchNorm2d(64, eps=1e-05, momentum=0.1, affine=True, track_running_stats=True)\n",
       "        (relu): ReLU(inplace=True)\n",
       "        (conv2): Conv2d(64, 64, kernel_size=(3, 3), stride=(1, 1), padding=(1, 1), bias=False)\n",
       "        (bn2): BatchNorm2d(64, eps=1e-05, momentum=0.1, affine=True, track_running_stats=True)\n",
       "      )\n",
       "      (2): BasicBlock(\n",
       "        (conv1): Conv2d(64, 64, kernel_size=(3, 3), stride=(1, 1), padding=(1, 1), bias=False)\n",
       "        (bn1): BatchNorm2d(64, eps=1e-05, momentum=0.1, affine=True, track_running_stats=True)\n",
       "        (relu): ReLU(inplace=True)\n",
       "        (conv2): Conv2d(64, 64, kernel_size=(3, 3), stride=(1, 1), padding=(1, 1), bias=False)\n",
       "        (bn2): BatchNorm2d(64, eps=1e-05, momentum=0.1, affine=True, track_running_stats=True)\n",
       "      )\n",
       "    )\n",
       "    (layer2): Sequential(\n",
       "      (0): BasicBlock(\n",
       "        (conv1): Conv2d(64, 128, kernel_size=(3, 3), stride=(2, 2), padding=(1, 1), bias=False)\n",
       "        (bn1): BatchNorm2d(128, eps=1e-05, momentum=0.1, affine=True, track_running_stats=True)\n",
       "        (relu): ReLU(inplace=True)\n",
       "        (conv2): Conv2d(128, 128, kernel_size=(3, 3), stride=(1, 1), padding=(1, 1), bias=False)\n",
       "        (bn2): BatchNorm2d(128, eps=1e-05, momentum=0.1, affine=True, track_running_stats=True)\n",
       "        (downsample): Sequential(\n",
       "          (0): Conv2d(64, 128, kernel_size=(1, 1), stride=(2, 2), bias=False)\n",
       "          (1): BatchNorm2d(128, eps=1e-05, momentum=0.1, affine=True, track_running_stats=True)\n",
       "        )\n",
       "      )\n",
       "      (1): BasicBlock(\n",
       "        (conv1): Conv2d(128, 128, kernel_size=(3, 3), stride=(1, 1), padding=(1, 1), bias=False)\n",
       "        (bn1): BatchNorm2d(128, eps=1e-05, momentum=0.1, affine=True, track_running_stats=True)\n",
       "        (relu): ReLU(inplace=True)\n",
       "        (conv2): Conv2d(128, 128, kernel_size=(3, 3), stride=(1, 1), padding=(1, 1), bias=False)\n",
       "        (bn2): BatchNorm2d(128, eps=1e-05, momentum=0.1, affine=True, track_running_stats=True)\n",
       "      )\n",
       "      (2): BasicBlock(\n",
       "        (conv1): Conv2d(128, 128, kernel_size=(3, 3), stride=(1, 1), padding=(1, 1), bias=False)\n",
       "        (bn1): BatchNorm2d(128, eps=1e-05, momentum=0.1, affine=True, track_running_stats=True)\n",
       "        (relu): ReLU(inplace=True)\n",
       "        (conv2): Conv2d(128, 128, kernel_size=(3, 3), stride=(1, 1), padding=(1, 1), bias=False)\n",
       "        (bn2): BatchNorm2d(128, eps=1e-05, momentum=0.1, affine=True, track_running_stats=True)\n",
       "      )\n",
       "      (3): BasicBlock(\n",
       "        (conv1): Conv2d(128, 128, kernel_size=(3, 3), stride=(1, 1), padding=(1, 1), bias=False)\n",
       "        (bn1): BatchNorm2d(128, eps=1e-05, momentum=0.1, affine=True, track_running_stats=True)\n",
       "        (relu): ReLU(inplace=True)\n",
       "        (conv2): Conv2d(128, 128, kernel_size=(3, 3), stride=(1, 1), padding=(1, 1), bias=False)\n",
       "        (bn2): BatchNorm2d(128, eps=1e-05, momentum=0.1, affine=True, track_running_stats=True)\n",
       "      )\n",
       "    )\n",
       "    (layer3): Sequential(\n",
       "      (0): BasicBlock(\n",
       "        (conv1): Conv2d(128, 256, kernel_size=(3, 3), stride=(2, 2), padding=(1, 1), bias=False)\n",
       "        (bn1): BatchNorm2d(256, eps=1e-05, momentum=0.1, affine=True, track_running_stats=True)\n",
       "        (relu): ReLU(inplace=True)\n",
       "        (conv2): Conv2d(256, 256, kernel_size=(3, 3), stride=(1, 1), padding=(1, 1), bias=False)\n",
       "        (bn2): BatchNorm2d(256, eps=1e-05, momentum=0.1, affine=True, track_running_stats=True)\n",
       "        (downsample): Sequential(\n",
       "          (0): Conv2d(128, 256, kernel_size=(1, 1), stride=(2, 2), bias=False)\n",
       "          (1): BatchNorm2d(256, eps=1e-05, momentum=0.1, affine=True, track_running_stats=True)\n",
       "        )\n",
       "      )\n",
       "      (1): BasicBlock(\n",
       "        (conv1): Conv2d(256, 256, kernel_size=(3, 3), stride=(1, 1), padding=(1, 1), bias=False)\n",
       "        (bn1): BatchNorm2d(256, eps=1e-05, momentum=0.1, affine=True, track_running_stats=True)\n",
       "        (relu): ReLU(inplace=True)\n",
       "        (conv2): Conv2d(256, 256, kernel_size=(3, 3), stride=(1, 1), padding=(1, 1), bias=False)\n",
       "        (bn2): BatchNorm2d(256, eps=1e-05, momentum=0.1, affine=True, track_running_stats=True)\n",
       "      )\n",
       "      (2): BasicBlock(\n",
       "        (conv1): Conv2d(256, 256, kernel_size=(3, 3), stride=(1, 1), padding=(1, 1), bias=False)\n",
       "        (bn1): BatchNorm2d(256, eps=1e-05, momentum=0.1, affine=True, track_running_stats=True)\n",
       "        (relu): ReLU(inplace=True)\n",
       "        (conv2): Conv2d(256, 256, kernel_size=(3, 3), stride=(1, 1), padding=(1, 1), bias=False)\n",
       "        (bn2): BatchNorm2d(256, eps=1e-05, momentum=0.1, affine=True, track_running_stats=True)\n",
       "      )\n",
       "      (3): BasicBlock(\n",
       "        (conv1): Conv2d(256, 256, kernel_size=(3, 3), stride=(1, 1), padding=(1, 1), bias=False)\n",
       "        (bn1): BatchNorm2d(256, eps=1e-05, momentum=0.1, affine=True, track_running_stats=True)\n",
       "        (relu): ReLU(inplace=True)\n",
       "        (conv2): Conv2d(256, 256, kernel_size=(3, 3), stride=(1, 1), padding=(1, 1), bias=False)\n",
       "        (bn2): BatchNorm2d(256, eps=1e-05, momentum=0.1, affine=True, track_running_stats=True)\n",
       "      )\n",
       "      (4): BasicBlock(\n",
       "        (conv1): Conv2d(256, 256, kernel_size=(3, 3), stride=(1, 1), padding=(1, 1), bias=False)\n",
       "        (bn1): BatchNorm2d(256, eps=1e-05, momentum=0.1, affine=True, track_running_stats=True)\n",
       "        (relu): ReLU(inplace=True)\n",
       "        (conv2): Conv2d(256, 256, kernel_size=(3, 3), stride=(1, 1), padding=(1, 1), bias=False)\n",
       "        (bn2): BatchNorm2d(256, eps=1e-05, momentum=0.1, affine=True, track_running_stats=True)\n",
       "      )\n",
       "      (5): BasicBlock(\n",
       "        (conv1): Conv2d(256, 256, kernel_size=(3, 3), stride=(1, 1), padding=(1, 1), bias=False)\n",
       "        (bn1): BatchNorm2d(256, eps=1e-05, momentum=0.1, affine=True, track_running_stats=True)\n",
       "        (relu): ReLU(inplace=True)\n",
       "        (conv2): Conv2d(256, 256, kernel_size=(3, 3), stride=(1, 1), padding=(1, 1), bias=False)\n",
       "        (bn2): BatchNorm2d(256, eps=1e-05, momentum=0.1, affine=True, track_running_stats=True)\n",
       "      )\n",
       "    )\n",
       "    (layer4): Sequential(\n",
       "      (0): BasicBlock(\n",
       "        (conv1): Conv2d(256, 512, kernel_size=(3, 3), stride=(2, 2), padding=(1, 1), bias=False)\n",
       "        (bn1): BatchNorm2d(512, eps=1e-05, momentum=0.1, affine=True, track_running_stats=True)\n",
       "        (relu): ReLU(inplace=True)\n",
       "        (conv2): Conv2d(512, 512, kernel_size=(3, 3), stride=(1, 1), padding=(1, 1), bias=False)\n",
       "        (bn2): BatchNorm2d(512, eps=1e-05, momentum=0.1, affine=True, track_running_stats=True)\n",
       "        (downsample): Sequential(\n",
       "          (0): Conv2d(256, 512, kernel_size=(1, 1), stride=(2, 2), bias=False)\n",
       "          (1): BatchNorm2d(512, eps=1e-05, momentum=0.1, affine=True, track_running_stats=True)\n",
       "        )\n",
       "      )\n",
       "      (1): BasicBlock(\n",
       "        (conv1): Conv2d(512, 512, kernel_size=(3, 3), stride=(1, 1), padding=(1, 1), bias=False)\n",
       "        (bn1): BatchNorm2d(512, eps=1e-05, momentum=0.1, affine=True, track_running_stats=True)\n",
       "        (relu): ReLU(inplace=True)\n",
       "        (conv2): Conv2d(512, 512, kernel_size=(3, 3), stride=(1, 1), padding=(1, 1), bias=False)\n",
       "        (bn2): BatchNorm2d(512, eps=1e-05, momentum=0.1, affine=True, track_running_stats=True)\n",
       "      )\n",
       "      (2): BasicBlock(\n",
       "        (conv1): Conv2d(512, 512, kernel_size=(3, 3), stride=(1, 1), padding=(1, 1), bias=False)\n",
       "        (bn1): BatchNorm2d(512, eps=1e-05, momentum=0.1, affine=True, track_running_stats=True)\n",
       "        (relu): ReLU(inplace=True)\n",
       "        (conv2): Conv2d(512, 512, kernel_size=(3, 3), stride=(1, 1), padding=(1, 1), bias=False)\n",
       "        (bn2): BatchNorm2d(512, eps=1e-05, momentum=0.1, affine=True, track_running_stats=True)\n",
       "      )\n",
       "    )\n",
       "    (avgpool): AdaptiveAvgPool2d(output_size=(1, 1))\n",
       "    (fc): Linear(in_features=512, out_features=3, bias=True)\n",
       "  )\n",
       ")"
      ]
     },
     "execution_count": 91,
     "metadata": {},
     "output_type": "execute_result"
    }
   ],
   "execution_count": 91
  },
  {
   "metadata": {},
   "cell_type": "code",
   "outputs": [],
   "execution_count": null,
   "source": "",
   "id": "c6935e04a34c895c"
  }
 ],
 "metadata": {
  "kernelspec": {
   "display_name": "Python 3",
   "language": "python",
   "name": "python3"
  },
  "language_info": {
   "codemirror_mode": {
    "name": "ipython",
    "version": 2
   },
   "file_extension": ".py",
   "mimetype": "text/x-python",
   "name": "python",
   "nbconvert_exporter": "python",
   "pygments_lexer": "ipython2",
   "version": "2.7.6"
  }
 },
 "nbformat": 4,
 "nbformat_minor": 5
}
